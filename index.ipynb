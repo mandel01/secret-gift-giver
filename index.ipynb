{
 "cells": [
  {
   "cell_type": "markdown",
   "metadata": {},
   "source": [
    "# Secret Gift Giver assignments\n",
    "\n",
    "### Instructions:\n",
    "1. Edit the participant list below\n",
    "1. Run the cell with `Cell` > `Run All`"
   ]
  },
  {
   "cell_type": "code",
   "execution_count": null,
   "metadata": {
    "collapsed": false
   },
   "outputs": [],
   "source": [
    "from collections import OrderedDict\n",
    "import random\n",
    "\n",
    "# For each tuple: (participant, spouse or other conflict)\n",
    "participants = \\\n",
    "    [\n",
    "        ## START EDITING HERE ##\n",
    "        ('person1', 'spouse1'), \n",
    "        ('person2', ''),\n",
    "        ('person3', 'spouse3'),\n",
    "        ('person4', ''),\n",
    "        ('person5', 'spouse5'),\n",
    "        ('person6', 'spouse6'),\n",
    "        ('person7', 'spouse7'),\n",
    "        ## END EDITING HERE ##\n",
    "    ]\n",
    "\n",
    "def assign_givers(participant_list):\n",
    "    \"\"\"Assign gift givers. Conflicts may be present at this point.\"\"\"\n",
    "    gift_giving = OrderedDict()\n",
    "    for i, name in enumerate(random.sample(participant_list, len(participant_list))):\n",
    "        gift_giving[list(participant_list)[i]] = name\n",
    "    return gift_giving\n",
    "\n",
    "def check_for_conflicts(participant_list, gift_giving):\n",
    "    \"\"\"Return True for self or spouse conflicts.\"\"\"\n",
    "    for name in list(participant_list):\n",
    "        # Cannot give to yourself\n",
    "        if gift_giving[name] == name:\n",
    "            return True\n",
    "        # Cannot give to your spouse\n",
    "        if gift_giving[name] == participant_list[name]:\n",
    "            return True\n",
    "    return False\n",
    "\n",
    "    \n",
    "# Who is playing our game?\n",
    "participants = OrderedDict(participants)\n",
    "siblings = list(participants)\n",
    "partners = list(filter(None, list(participants.values())))\n",
    "print('\\nTotal number of participants:', len(siblings + partners))\n",
    "print(', '.join(name for name in (siblings + partners)), '\\n')\n",
    "\n",
    "\n",
    "# (Re-)assign givers until the list checks out\n",
    "conflict = True\n",
    "while conflict:\n",
    "    gift_list = assign_givers(siblings + partners)\n",
    "    conflict = check_for_conflicts(participants, gift_list)\n",
    "for name in gift_list:\n",
    "    print(name, 'buys for', gift_list[name])\n",
    "\n"
   ]
  },
  {
   "cell_type": "code",
   "execution_count": null,
   "metadata": {
    "collapsed": true
   },
   "outputs": [],
   "source": []
  }
 ],
 "metadata": {
  "kernelspec": {
   "display_name": "Python 3",
   "language": "python",
   "name": "python3"
  },
  "language_info": {
   "codemirror_mode": {
    "name": "ipython",
    "version": 3
   },
   "file_extension": ".py",
   "mimetype": "text/x-python",
   "name": "python",
   "nbconvert_exporter": "python",
   "pygments_lexer": "ipython3",
   "version": "3.5.1"
  }
 },
 "nbformat": 4,
 "nbformat_minor": 0
}
